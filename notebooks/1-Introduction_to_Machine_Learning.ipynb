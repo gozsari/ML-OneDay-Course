{
 "cells": [
  {
   "cell_type": "markdown",
   "id": "075a1f75",
   "metadata": {},
   "source": [
    "# 🌟 Introduction to Machine Learning\n",
    "\n",
    "Welcome to the first session of our Machine Learning course! 🎉\n",
    "\n",
    "## What You’ll Learn:\n",
    "1. Understand what Machine Learning (ML) is.\n",
    "2. Explore the three main types of ML: Supervised, Unsupervised, and Reinforcement Learning.\n",
    "3. See examples of ML applications in various fields.\n",
    "4. Learn key ML terminology and the standard ML workflow.\n",
    "\n",
    "At the end of this session, you'll have a strong foundation to start building your own ML models!"
   ]
  },
  {
   "cell_type": "markdown",
   "id": "31095edf",
   "metadata": {},
   "source": [
    "## 🤖 What is Machine Learning?\n",
    "\n",
    "Machine Learning is a branch of Artificial Intelligence (AI) where computers are trained to learn from data and make decisions or predictions without being explicitly programmed.\n",
    "\n",
    "The goal of ML is to develop algorithms that can learn and improve over time. These algorithms are used to build models that can:\n",
    "- Make predictions (e.g., weather forecasts)\n",
    "- Classify data (e.g., spam detection)\n",
    "- Identify patterns (e.g., customer segmentation)\n",
    "- Optimize decisions (e.g., route planning)\n",
    "- And much more!\n",
    "\n",
    "\n",
    "### 🔑 Key Characteristics:\n",
    "1. **Data-Driven**: ML relies on historical data to make predictions or decisions.\n",
    "2. **Self-Improving**: ML systems get better with experience as more variety of data becomes available.\n",
    "\n",
    "### 🤔 Why is ML Important?\n",
    "\n",
    "ML powers some of the most impactful technologies in the world today:\n",
    "- Netflix and YouTube recommendations 🎥\n",
    "- Google Translate 🌐\n",
    "- Fraud detection in banking 🏦\n",
    "- Self-driving cars 🚗\n",
    "- Medical diagnosis \n",
    "- And many more!"
   ]
  },
  {
   "cell_type": "markdown",
   "id": "110f0e8f",
   "metadata": {},
   "source": [
    "## 🧠 Types of Machine Learning\n",
    "\n",
    "ML is broadly categorized into three types:\n",
    "\n",
    "1️⃣ **Supervised Learning**:\n",
    "- Trains on labeled data (inputs with known outputs).\n",
    "- **Example**: Predicting house prices based on features like square footage and number of bedrooms.\n",
    "- Example dataset format:\n",
    "\n",
    "| Area (sq. ft.) | Bedrooms | Price ($) |\n",
    "|----------------|----------|-----------|\n",
    "| 1500           | 3        | 200,000   |\n",
    "| 2000           | 4        | 300,000   |\n",
    "| 1200           | 2        | 150,000   |\n",
    "\n",
    "- The goal is to learn a mapping from inputs (features) to outputs (labels).\n",
    "\n",
    "2️⃣ **Unsupervised Learning**:\n",
    "- Trains on unlabeled data (no known outputs).\n",
    "- **Example**: Grouping customers into segments based on their shopping behavior.\n",
    "- Example dataset format:\n",
    "\n",
    "| Age | Income ($) | Married | Children | Homeowner |\n",
    "|-----|------------|---------|----------|----------|\n",
    "| 25  | 50,000     | No      | 0        | Yes      |\n",
    "| 45  | 80,000     | Yes     | 2        | No       |\n",
    "| 30  | 70,000     | Yes     | 3        | Yes      |\n",
    "\n",
    "- The goal is to find patterns or intrinsic structures in the data. There are no explicit labels (output) to predict. We have features and we need to find patterns in them.\n",
    "\n",
    "3️⃣ **Reinforcement Learning**:\n",
    "- Learns by interacting with an environment and receiving rewards or penalties.\n",
    "- **Example**: Training a robot to walk or teaching an AI to play chess.\n",
    "- No fixed dataset format.\n",
    "- The goal is to learn a sequence of actions that maximize a reward signal. Examples include game playing, robotics, and autonomous driving.\n",
    "- The agent learns to achieve a goal in an uncertain, potentially complex environment.\n",
    "  \n",
    "### 📚 Other Types of ML:\n",
    "There are several other types of ML that combine elements of supervised, unsupervised, and reinforcement learning:\n",
    "\n",
    " **Semi-Supervised Learning**:\n",
    "- Trains on a mix of labeled and unlabeled data.\n",
    "- Useful when labeled data is scarce or expensive to obtain.\n",
    "- Example: Image recognition with a few labeled images and many unlabeled images.\n",
    "\n",
    " **Self-Supervised Learning**:\n",
    "- Trains on data without human-annotated labels.\n",
    "- Labels are generated from the input data itself.\n",
    "- Example: Training a model to predict missing words in a sentence.\n",
    "\n",
    "**Transfer Learning**:\n",
    "- Transfers knowledge from one task to another.\n",
    "- Useful when you have a small dataset for the target task.\n",
    "- Example: Fine-tuning a pre-trained model on a new dataset.\n",
    "- Transfer learning is widely used in computer vision and natural language processing tasks.\n",
    "\n"
   ]
  },
  {
   "cell_type": "code",
   "execution_count": null,
   "id": "c389fd2b",
   "metadata": {},
   "outputs": [],
   "source": [
    "# Import libraries\n",
    "import numpy as np\n",
    "import matplotlib.pyplot as plt\n",
    "from sklearn.linear_model import LinearRegression\n",
    "from sklearn.cluster import KMeans\n"
   ]
  },
  {
   "cell_type": "code",
   "execution_count": null,
   "id": "62a0cefc",
   "metadata": {},
   "outputs": [],
   "source": [
    "# Supervised Learning Example: Regression\n",
    "X_supervised = np.array([[1], [2], [3], [4], [5]])\n",
    "y_supervised = np.array([2, 4, 6, 8, 10])\n",
    "\n",
    "model = LinearRegression()\n",
    "model.fit(X_supervised, y_supervised)\n",
    "y_pred = model.predict(X_supervised)"
   ]
  },
  {
   "cell_type": "code",
   "execution_count": null,
   "id": "1e0dcbf2",
   "metadata": {},
   "outputs": [],
   "source": [
    "# Unsupervised Learning Example: Clustering\n",
    "X_unsupervised = np.random.rand(50, 2) * 100\n",
    "kmeans = KMeans(n_clusters=3, random_state=42)\n",
    "labels = kmeans.fit_predict(X_unsupervised)"
   ]
  },
  {
   "cell_type": "code",
   "execution_count": null,
   "id": "de304721",
   "metadata": {},
   "outputs": [],
   "source": [
    "# Plot both examples\n",
    "plt.figure(figsize=(12, 6))\n",
    "plt.subplot(1, 2, 1)\n",
    "plt.scatter(X_supervised, y_supervised, color='blue', label='Data')\n",
    "plt.plot(X_supervised, y_pred, color='red', label='Model')\n",
    "plt.title('Supervised Learning: Linear Regression')\n",
    "plt.xlabel('Input Feature')\n",
    "plt.ylabel('Target Label')\n",
    "plt.legend()\n",
    "\n",
    "plt.subplot(1, 2, 2)\n",
    "plt.scatter(X_unsupervised[:, 0], X_unsupervised[:, 1], c=labels, cmap='viridis')\n",
    "plt.title('Unsupervised Learning: K-Means Clustering')\n",
    "plt.xlabel('Feature 1')\n",
    "plt.ylabel('Feature 2')\n",
    "plt.show()"
   ]
  },
  {
   "cell_type": "markdown",
   "id": "958fe9d9",
   "metadata": {},
   "source": [
    "## 🌍 Real-World Applications of Machine Learning\n",
    "\n",
    "### 🔬 Healthcare:\n",
    "- **Disease Prediction**: Predicting diabetes risk based on patient data.\n",
    "- **Medical Imaging**: Detecting tumors in MRI scans.\n",
    "\n",
    "### 💳 Finance:\n",
    "- **Fraud Detection**: Identifying suspicious transactions.\n",
    "- **Algorithmic Trading**: Predicting stock prices.\n",
    "\n",
    "### 🛒 E-Commerce:\n",
    "- **Product Recommendations**: Suggesting products on Amazon.\n",
    "- **Customer Sentiment Analysis**: Analyzing reviews.\n",
    "\n",
    "### 🚗 Autonomous Vehicles:\n",
    "- **Self-Driving Cars**: Detecting road signs and pedestrians."
   ]
  },
  {
   "cell_type": "markdown",
   "id": "b30b21fb",
   "metadata": {},
   "source": [
    "## 📖 Machine Learning Terminology\n",
    "\n",
    "1️⃣ **Dataset**: A collection of data used for training and testing.\n",
    "\n",
    "2️⃣ **Feature**: An individual property of the data.\n",
    "\n",
    "3️⃣ **Label**: The target output in supervised learning.\n",
    "\n",
    "4️⃣ **Model**: A mathematical representation of the data.\n",
    "\n",
    "5️⃣ **Training**: The process of fitting a model to the data.\n",
    "\n",
    "6️⃣ **Testing**: Evaluating a model on unseen data.\n",
    "\n",
    "7️⃣ **Prediction**: An output generated by the model.\n",
    "\n",
    "8️⃣ **Hyperparameters**: Settings that control the learning process. They are set before training the model.\n",
    "\n",
    "9️⃣ **Evaluation Metric**: A measure used to assess model performance. \n",
    "\n",
    "1️⃣0️⃣ **Overfitting**: When a model performs well on training data but poorly on unseen data.\n",
    "\n",
    "1️⃣1️⃣ **Underfitting**: When a model is too simple to capture the patterns in the data.\n"
   ]
  },
  {
   "cell_type": "markdown",
   "id": "362a6c3f",
   "metadata": {},
   "source": [
    "## 🔄 ML Workflow\n",
    "\n",
    "1. **Define the Problem**: What are you trying to predict or solve?\n",
    "2. **Collect and Clean Data**: Ensure your data is accurate and complete.\n",
    "3. **Feature Engineering**: Select relevant features and transform the data into a suitable format(like one-hot encoding).\n",
    "4. **Split Data**: Divide into training, validation, and test sets.\n",
    "5. **Choose a Model**: Decide on a suitable algorithm (e.g., regression, clustering).\n",
    "6. **Hyperparameter Tuning**: Optimize the model settings for best performance.\n",
    "7. **Train the Model**: Teach the model to learn patterns in the training data.\n",
    "8. **Evaluate the Model**: Use metrics like accuracy or RMSE to measure performance.\n",
    "9. **Deploy the Model**: Use it in real-world applications."
   ]
  },
  {
   "cell_type": "markdown",
   "id": "2db1a413",
   "metadata": {},
   "source": [
    "### Useful Libraries:\n",
    "- **Scikit-learn**: For building ML models. link: https://scikit-learn.org/stable/\n",
    "- **TensorFlow**: For deep learning. link: https://www.tensorflow.org/\n",
    "- **PyTorch**: For deep learning. link: https://pytorch.org/\n"
   ]
  }
 ],
 "metadata": {
  "kernelspec": {
   "display_name": ".venv",
   "language": "python",
   "name": "python3"
  },
  "language_info": {
   "codemirror_mode": {
    "name": "ipython",
    "version": 3
   },
   "file_extension": ".py",
   "mimetype": "text/x-python",
   "name": "python",
   "nbconvert_exporter": "python",
   "pygments_lexer": "ipython3",
   "version": "3.11.5"
  }
 },
 "nbformat": 4,
 "nbformat_minor": 5
}
