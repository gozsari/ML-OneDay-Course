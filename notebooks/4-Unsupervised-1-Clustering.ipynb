{
 "cells": [
  {
   "cell_type": "markdown",
   "metadata": {},
   "source": [
    "# 4- Unsupervised Learning \n",
    "\n",
    "Unsupervised learning is a type of machine learning that looks for previously undetected patterns in a data set with no pre-existing labels and with a minimum of human supervision.\n",
    "\n",
    "## 4.1 Clustering \n",
    "\n",
    "### Objectives:\n",
    "1. Understand the concept of clustering in unsupervised learning.\n",
    "2. Learn about commonly used clustering techniques: K-Means and Hierarchical Clustering.\n",
    "3. Explore practical applications of clustering.\n",
    "4. Hands-on: Implement K-Means clustering using Scikit-learn.\n",
    "\n",
    "By the end of this session, you will be able to group data points into clusters based on similarity and interpret clustering results.\n"
   ]
  },
  {
   "cell_type": "markdown",
   "metadata": {},
   "source": [
    "## 🤔 What is Clustering?\n",
    "\n",
    "Clustering is a type of unsupervised learning where the goal is to group data points into clusters based on their similarity.\n",
    "\n",
    "---\n",
    "\n",
    "### Key Characteristics:\n",
    "- No labeled data (i.e., the target variable is unknown).\n",
    "- Finds hidden patterns or structures in data.\n",
    "\n",
    "---\n",
    "\n",
    "### Examples of Clustering:\n",
    "1. **Customer Segmentation**:\n",
    "   - Group customers based on purchasing behavior.\n",
    "2. **Document Clustering**:\n",
    "   - Group news articles based on topics.\n",
    "3. **Image Segmentation**:\n",
    "   - Identify regions of interest in an image (e.g., foreground and background).\n",
    "\n",
    "---\n",
    "\n",
    "### How Clustering Works:\n",
    "1. Compute a similarity or distance measure (e.g., Euclidean distance, cosine similarity) between data points.\n",
    "2. Group similar data points into clusters.\n",
    "3. Evaluate the compactness and separation of clusters.\n"
   ]
  },
  {
   "cell_type": "markdown",
   "metadata": {},
   "source": [
    "## 🔑 Types of Clustering\n",
    "\n",
    "### 1️⃣ **Partition-Based Clustering**:\n",
    "- Divides data into non-overlapping subsets.\n",
    "- Example Algorithm: **K-Means Clustering**.\n",
    "- Application: Customer segmentation.\n",
    "\n",
    "---\n",
    "\n",
    "### 2️⃣ **Hierarchical Clustering**:\n",
    "- Builds a tree-like structure of clusters (dendrogram).\n",
    "- Can be agglomerative (bottom-up) or divisive (top-down).\n",
    "- Application: Organizing documents into categories.\n",
    "\n",
    "---\n",
    "\n",
    "### 3️⃣ **Density-Based Clustering**:\n",
    "- Groups data points based on dense regions.\n",
    "- Example Algorithm: **DBSCAN**.\n",
    "- Application: Detecting anomalies or outliers.\n"
   ]
  },
  {
   "cell_type": "markdown",
   "metadata": {},
   "source": [
    "## What is K-Means?\n",
    "\n",
    "K-Means is one of the most widely used clustering algorithms. It groups data into \\( K \\) clusters by minimizing the variance within each cluster.\n",
    "\n",
    "---\n",
    "\n",
    "### Key Steps:\n",
    "1. Choose the number of clusters \\( K \\).\n",
    "2. Initialize \\( K \\) cluster centroids randomly.\n",
    "3. Assign each data point to the nearest centroid.\n",
    "4. Update centroids as the mean of all points assigned to that cluster.\n",
    "5. Repeat steps 3 and 4 until convergence.\n",
    "\n",
    "---\n",
    "\n",
    "### Example:\n",
    "Suppose you have sales data for customers, and you want to group them into three segments:\n",
    "1. High spenders.\n",
    "2. Moderate spenders.\n",
    "3. Low spenders.\n",
    "\n",
    "---\n",
    "\n",
    "### Visual Representation:\n",
    "- Data points are grouped based on proximity to centroids.\n",
    "- Final clusters are compact and well-separated.\n"
   ]
  },
  {
   "cell_type": "markdown",
   "metadata": {},
   "source": [
    "## 📏 How Do We Evaluate Clustering Results?\n",
    "\n",
    "### 1️⃣ Silhouette Score:\n",
    "- Measures how similar a point is to its cluster compared to other clusters.\n",
    "- Ranges from -1 to 1:\n",
    "  - 1: Perfect clustering.\n",
    "  - 0: Overlapping clusters.\n",
    "  - -1: Points assigned to the wrong cluster.\n",
    "\n",
    "---\n",
    "\n",
    "### 2️⃣ Inertia (Sum of Squared Distances):\n",
    "- Measures the compactness of clusters.\n",
    "- Lower inertia indicates tighter clusters.\n",
    "\n",
    "---\n",
    "\n",
    "### 3️⃣ Visualization:\n",
    "- Use scatterplots or dendrograms to visualize clusters and their separations.\n"
   ]
  },
  {
   "cell_type": "code",
   "execution_count": null,
   "metadata": {},
   "outputs": [],
   "source": [
    "# Import required libraries\n",
    "import numpy as np\n",
    "import matplotlib.pyplot as plt\n",
    "from sklearn.datasets import make_blobs\n",
    "from sklearn.cluster import KMeans\n",
    "from sklearn.metrics import silhouette_score"
   ]
  },
  {
   "cell_type": "code",
   "execution_count": null,
   "metadata": {},
   "outputs": [],
   "source": [
    "# 1. Generate Synthetic Data for Clustering\n",
    "X, _ = make_blobs(n_samples=200, centers=3, cluster_std=1.0, random_state=42)"
   ]
  },
  {
   "cell_type": "code",
   "execution_count": null,
   "metadata": {},
   "outputs": [],
   "source": [
    "# Visualize the data\n",
    "plt.scatter(X[:, 0], X[:, 1], s=50, color='blue')\n",
    "plt.title('Synthetic Data for Clustering')\n",
    "plt.xlabel('Feature 1')\n",
    "plt.ylabel('Feature 2')\n",
    "plt.show()"
   ]
  },
  {
   "cell_type": "code",
   "execution_count": null,
   "metadata": {},
   "outputs": [],
   "source": [
    "# 2. Apply K-Means Clustering\n",
    "kmeans = KMeans(n_clusters=3, random_state=42)\n",
    "kmeans.fit(X)"
   ]
  },
  {
   "cell_type": "code",
   "execution_count": null,
   "metadata": {},
   "outputs": [],
   "source": [
    "# Cluster centers and labels\n",
    "centroids = kmeans.cluster_centers_\n",
    "labels = kmeans.labels_"
   ]
  },
  {
   "cell_type": "code",
   "execution_count": null,
   "metadata": {},
   "outputs": [],
   "source": [
    "# Visualize the clusters\n",
    "plt.scatter(X[:, 0], X[:, 1], c=labels, cmap='viridis', s=50)\n",
    "plt.scatter(centroids[:, 0], centroids[:, 1], c='red', marker='X', s=200, label='Centroids')\n",
    "plt.title('K-Means Clustering')\n",
    "plt.xlabel('Feature 1')\n",
    "plt.ylabel('Feature 2')\n",
    "plt.legend()\n",
    "plt.show()"
   ]
  },
  {
   "cell_type": "code",
   "execution_count": null,
   "metadata": {},
   "outputs": [],
   "source": [
    "# 3. Evaluate Clustering Performance\n",
    "sil_score = silhouette_score(X, labels)\n",
    "print(f\"Silhouette Score: {sil_score:.2f}\")"
   ]
  },
  {
   "cell_type": "markdown",
   "metadata": {},
   "source": [
    "## 📝 Key Takeaways:\n",
    "1. Clustering is an unsupervised learning technique for grouping similar data points.\n",
    "2. Common clustering methods include partition-based (K-Means), hierarchical, and density-based clustering.\n",
    "3. Evaluation metrics like silhouette score help measure the quality of clusters.\n",
    "4. Visualizing clusters is essential for interpreting results.\n",
    "\n",
    "Next, we will explore other unsupervised learning techniques!\n",
    "\n",
    "For more information on clustering, refer to the [Scikit-learn documentation](https://scikit-learn.org/stable/modules/clustering.html)."
   ]
  },
  {
   "cell_type": "markdown",
   "metadata": {},
   "source": [
    "## In-class Activity: Implementing another Clustering with the dataset.\n",
    "- Choose an unsupervised learning technique (e.g., hierarchical clustering) and apply it to the dataset. \n",
    "- See scikit-learn's documentation for more information on [clustering algorithms](https://scikit-learn.org/stable/modules/clustering.html)."
   ]
  }
 ],
 "metadata": {
  "kernelspec": {
   "display_name": ".venv",
   "language": "python",
   "name": "python3"
  },
  "language_info": {
   "codemirror_mode": {
    "name": "ipython",
    "version": 3
   },
   "file_extension": ".py",
   "mimetype": "text/x-python",
   "name": "python",
   "nbconvert_exporter": "python",
   "pygments_lexer": "ipython3",
   "version": "3.11.10"
  }
 },
 "nbformat": 4,
 "nbformat_minor": 2
}
