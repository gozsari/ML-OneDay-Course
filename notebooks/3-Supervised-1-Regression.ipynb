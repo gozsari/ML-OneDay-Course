{
 "cells": [
  {
   "cell_type": "markdown",
   "metadata": {},
   "source": [
    "# 3. Supervised Learning :rocket:\n",
    "\n",
    ":memo: **Definition:** Supervised learning is a type of machine learning where the model is trained on a labeled dataset. The model learns the relationship between the features and the labels and uses this relationship to make predictions on new data.\n",
    "\n",
    "- **Supervised learning** is the most common type of machine learning. \n",
    "- It is the first type of learning that most people encounter. \n",
    "- It is the type of learning that is used to train a model to predict an output based on an input. \n",
    "- The input is called the **feature** X and the output is called the **label** Y. \n",
    "- The model is trained on a dataset that contains both the features and the labels. \n",
    "- The model learns the relationship between the features and the labels and uses this relationship to make predictions on new data."
   ]
  },
  {
   "cell_type": "markdown",
   "metadata": {},
   "source": [
    "## 3.1 Regression :chart_with_upwards_trend:\n",
    "\n",
    "## Objectives:\n",
    "1. Understand what regression is and why it's important.\n",
    "2. Learn the key components of regression models.\n",
    "3. Explore the differences between linear and polynomial regression.\n",
    "4. Understand evaluation metrics used for regression models.\n",
    "5. Hands-on: Implement a simple linear regression model and evaluate its performance.\n",
    "\n",
    "By the end of this session, you will be able to apply regression to make predictions on continuous data and evaluate the quality of your models.\n"
   ]
  },
  {
   "cell_type": "markdown",
   "metadata": {},
   "source": [
    "## 🤔 What is Regression?\n",
    "\n",
    "Regression is a supervised learning technique used to model the relationship between a dependent variable (target) and one or more independent variables (features). \n",
    "\n",
    "### Key Characteristics:\n",
    "- **Continuous Target Variable**: Regression predicts continuous outputs, such as prices, distances, or probabilities.\n",
    "- **Mathematical Relationship**: The model tries to find the best function that maps input features to the target variable.\n",
    "\n",
    "### Regression vs. Classification:\n",
    "- **Regression**: Predicts continuous values (e.g., house prices, temperature).\n",
    "- **Classification**: Predicts discrete classes (e.g., spam vs. not spam).\n",
    "\n",
    "---\n",
    "\n",
    "### How Regression Works:\n",
    "1. Collect data with input features \\( X \\) and target \\( y \\).\n",
    "2. Use a regression algorithm to learn the mapping \\( y = f(X) \\).\n",
    "3. Apply the trained model to predict new target values for unseen data.\n",
    "\n",
    "For example:\n",
    "- Predicting house prices based on square footage (\\( X \\)) and predicting a new price (\\( y \\)).\n"
   ]
  },
  {
   "cell_type": "markdown",
   "metadata": {},
   "source": [
    "## 🔑 Types of Regression:\n",
    "\n",
    "### 1️⃣ Linear Regression:\n",
    "- Models a straight-line relationship between features and the target.\n",
    "- Equation: \\( y = mx + b \\), where:\n",
    "  - \\( m \\): slope (how much \\( y \\) changes for a unit change in \\( x \\)).\n",
    "  - \\( b \\): intercept (value of \\( y \\) when \\( x = 0 \\)).\n",
    "\n",
    "---\n",
    "\n",
    "### 2️⃣ Polynomial Regression:\n",
    "- Extends linear regression to fit curves by adding polynomial terms.\n",
    "- Equation: \\( y = ax^2 + bx + c \\).\n",
    "- Example: Modeling relationships that aren't linear, like population growth.\n",
    "\n",
    "---\n",
    "\n",
    "### 3️⃣ Other Types of Regression:\n",
    "- **Ridge Regression**: Adds regularization (L2 penalty) to prevent overfitting.\n",
    "  \n",
    "- **Lasso Regression**: Adds regularization (L1 penalty) and performs feature selection by setting some coefficients to zero.\n",
    "      \n",
    "- **Logistic Regression**: Used for classification, not continuous targets.\n",
    "\n",
    "**Scikit-learn** provides a simple and efficient way to implement regression models in Python. See the [documentation](https://scikit-learn.org/stable/modules/linear_model.html) for more details.\n"
   ]
  },
  {
   "cell_type": "markdown",
   "metadata": {},
   "source": [
    "## 📏 How Do We Evaluate Regression Models?\n",
    "\n",
    "### Importance of Metrics:\n",
    "Metrics help determine how well the regression model predicts the target values. A good model minimizes errors and explains the variance in the target variable.\n",
    "\n",
    "---\n",
    "\n",
    "### Common Metrics:\n",
    "1. **Mean Absolute Error (MAE)**:\n",
    "   - Measures the average absolute difference between predicted and actual values.\n",
    "   - Lower MAE indicates better model performance.\n",
    "   - Formula: MAE = 1/n * Σ |y - ŷ| where \\( n \\) is the number of samples, \\( y \\) is the actual value, and \\( ŷ \\) is the predicted value.\n",
    "---\n",
    "\n",
    "1. **Mean Squared Error (MSE)**:\n",
    "   - Measures the average squared difference between predicted and actual values.\n",
    "   - Penalizes larger errors more heavily than MAE.\n",
    "   - Formula: MSE = 1/n * Σ (y - ŷ)² where \\( n \\) is the number of samples, \\( y \\) is the actual value, and \\( ŷ \\) is the predicted value.\n",
    "\n",
    "---\n",
    "\n",
    "1. **Root Mean Squared Error (RMSE)**:\n",
    "   - The square root of MSE. Intuitive as it's in the same units as the target variable.\n",
    "   - Formula: RMSE = √MSE\n",
    "\n",
    "---\n",
    "\n",
    "1. **R² Score (Coefficient of Determination)**:\n",
    "   - Measures the proportion of variance in the target variable explained by the features.\n",
    "   - Values range from 0 (no explanation) to 1 (perfect fit).\n",
    "   - Formula: R² = 1 - (Σ (y - ŷ)² / Σ (y - ȳ)²) where \\( y \\) is the actual value, \\( ŷ \\) is the predicted value, and \\( ȳ \\) is the mean of the actual values.\n",
    "\n",
    "---\n",
    "\n",
    "### When to Use Each Metric:\n",
    "- **MAE**: Robust to outliers, suitable for general comparisons.\n",
    "- **MSE**: Highlights larger errors, useful when large deviations are unacceptable.\n",
    "- **R²**: Explains the overall performance of the model relative to a baseline (mean).\n",
    "\n",
    "**Scikit-learn** provides functions to calculate these metrics for regression models. See the [documentation](https://scikit-learn.org/stable/modules/model_evaluation.html#regression-metrics) for more details."
   ]
  },
  {
   "cell_type": "markdown",
   "metadata": {},
   "source": [
    "## 🚀 Hands-on: Implementing Linear Regression"
   ]
  },
  {
   "cell_type": "code",
   "execution_count": null,
   "metadata": {},
   "outputs": [],
   "source": [
    "# Import required libraries\n",
    "import numpy as np\n",
    "import matplotlib.pyplot as plt\n",
    "from sklearn.model_selection import train_test_split\n",
    "from sklearn.linear_model import LinearRegression\n",
    "from sklearn.metrics import mean_absolute_error, mean_squared_error, r2_score\n"
   ]
  },
  {
   "cell_type": "code",
   "execution_count": null,
   "metadata": {},
   "outputs": [],
   "source": [
    "# 1. Generate Synthetic Data for Regression\n",
    "np.random.seed(42)\n",
    "X = 2.5 * np.random.randn(100, 1) + 1.5   # Feature (independent variable)\n",
    "y = 2 + 1.8 * X + np.random.randn(100, 1) # Target (dependent variable)"
   ]
  },
  {
   "cell_type": "code",
   "execution_count": null,
   "metadata": {},
   "outputs": [],
   "source": [
    "# Visualize the data\n",
    "plt.scatter(X, y, color='blue', label='Data Points')\n",
    "plt.title('Synthetic Regression Data')\n",
    "plt.xlabel('Feature')\n",
    "plt.ylabel('Target')\n",
    "plt.legend()\n",
    "plt.show()"
   ]
  },
  {
   "cell_type": "code",
   "execution_count": null,
   "metadata": {},
   "outputs": [],
   "source": [
    "# 2. Split Data into Training and Test Sets\n",
    "X_train, X_test, y_train, y_test = train_test_split(X, y, test_size=0.2, random_state=42)"
   ]
  },
  {
   "cell_type": "code",
   "execution_count": null,
   "metadata": {},
   "outputs": [],
   "source": [
    "# 3. Train a Linear Regression Model\n",
    "model = LinearRegression()\n",
    "model.fit(X_train, y_train)"
   ]
  },
  {
   "cell_type": "code",
   "execution_count": null,
   "metadata": {},
   "outputs": [],
   "source": [
    "# Model Parameters\n",
    "print(f\"Intercept: {model.intercept_[0]:.2f}\")\n",
    "print(f\"Coefficient: {model.coef_[0][0]:.2f}\")"
   ]
  },
  {
   "cell_type": "code",
   "execution_count": null,
   "metadata": {},
   "outputs": [],
   "source": [
    "# 4. Make Predictions\n",
    "y_pred = model.predict(X_test)"
   ]
  },
  {
   "cell_type": "code",
   "execution_count": null,
   "metadata": {},
   "outputs": [],
   "source": [
    "# 5. Evaluate the Model\n",
    "mae = mean_absolute_error(y_test, y_pred)\n",
    "mse = mean_squared_error(y_test, y_pred)\n",
    "rmse = np.sqrt(mse)\n",
    "r2 = r2_score(y_test, y_pred)\n",
    "\n",
    "print(f\"Mean Absolute Error (MAE): {mae:.2f}\")\n",
    "print(f\"Mean Squared Error (MSE): {mse:.2f}\")\n",
    "print(f\"Root Mean Squared Error (RMSE): {rmse:.2f}\")\n",
    "print(f\"R² Score: {r2:.2f}\")"
   ]
  },
  {
   "cell_type": "code",
   "execution_count": null,
   "metadata": {},
   "outputs": [],
   "source": [
    "# 6. Visualize Predictions\n",
    "plt.scatter(X_test, y_test, color='blue', label='Actual')\n",
    "plt.plot(X_test, y_pred, color='red', label='Predicted')\n",
    "plt.title('Linear Regression Predictions')\n",
    "plt.xlabel('Feature')\n",
    "plt.ylabel('Target')\n",
    "plt.legend()\n",
    "plt.show()\n"
   ]
  },
  {
   "cell_type": "markdown",
   "metadata": {},
   "source": [
    "## 📝 Key Takeaways:\n",
    "1. Regression is a powerful technique for predicting continuous outcomes.\n",
    "2. Linear regression models a straight-line relationship, but other types like polynomial regression can handle non-linear data.\n",
    "3. Evaluating models with metrics like MAE, MSE, RMSE, and R² is crucial for assessing their performance.\n",
    "4. Visualizing data and predictions helps understand model behavior.\n",
    "\n",
    "Up next, we’ll explore **Classification** techniques!\n"
   ]
  },
  {
   "cell_type": "markdown",
   "metadata": {},
   "source": [
    "## In-class Activity:\n",
    "- Implement another regression algorithm using a different dataset.\n",
    "- Use scikit-learn to choose dataset and new regression algorithm.\n",
    "- Datasets: [Toy datasets](https://scikit-learn.org/1.5/datasets/toy_dataset.html)\n",
    "- Algorithms: [Scikit-learn algorithms](https://scikit-learn.org/stable/supervised_learning.html#supervised-learning)"
   ]
  }
 ],
 "metadata": {
  "kernelspec": {
   "display_name": ".venv",
   "language": "python",
   "name": "python3"
  },
  "language_info": {
   "codemirror_mode": {
    "name": "ipython",
    "version": 3
   },
   "file_extension": ".py",
   "mimetype": "text/x-python",
   "name": "python",
   "nbconvert_exporter": "python",
   "pygments_lexer": "ipython3",
   "version": "3.11.10"
  }
 },
 "nbformat": 4,
 "nbformat_minor": 2
}
