{
 "cells": [
  {
   "cell_type": "markdown",
   "metadata": {},
   "source": [
    "# In-class assignment: Build a classifier model\n",
    "\n",
    "## Objective:\n",
    "\n",
    "Students will:\n",
    "\n",
    "- Develop and train a classification model using a provided training/validation dataset.\n",
    "- Save their trained models as pickle files.\n",
    "- Submit their models for evaluation.\n",
    "- Compete to achieve the highest F1 score on a hidden test dataset."
   ]
  },
  {
   "cell_type": "markdown",
   "metadata": {},
   "source": [
    "### Step 1: Load the Dataset\n",
    "Instructions for Students:\n",
    "- Load the dataset from scikit-learn.\n",
    "- Explore the dataset to understand its structure and key characteristics."
   ]
  },
  {
   "cell_type": "code",
   "execution_count": 1,
   "metadata": {},
   "outputs": [],
   "source": [
    "# Load dataset from scikit-learn\n",
    "from sklearn import datasets\n",
    "\n",
    "# load iris dataset\n",
    "iris = datasets.load_iris()\n"
   ]
  },
  {
   "cell_type": "code",
   "execution_count": 2,
   "metadata": {},
   "outputs": [
    {
     "data": {
      "image/png": "[encoded data removed]",
      "text/plain": [
       "<Figure size 640x480 with 1 Axes>"
      ]
     },
     "metadata": {},
     "output_type": "display_data"
    }
   ],
   "source": [
    "# visualize the data\n",
    "import matplotlib.pyplot as plt\n",
    "\n",
    "# get the first two features\n",
    "X = iris.data[:, :2]\n",
    "y = iris.target\n",
    "\n",
    "# plot the data\n",
    "plt.scatter(X[y == 0][:, 0], X[y == 0][:, 1], color='red', label='Setosa')\n",
    "plt.scatter(X[y == 1][:, 0], X[y == 1][:, 1], color='blue', label='Versicolor')\n",
    "plt.scatter(X[y == 2][:, 0], X[y == 2][:, 1], color='green', label='Virginica')\n",
    "plt.xlabel('Sepal length')\n",
    "plt.ylabel('Sepal width')\n",
    "plt.legend()\n",
    "plt.show()"
   ]
  },
  {
   "cell_type": "markdown",
   "metadata": {},
   "source": [
    "### Step 2: Normalize the Features (if necessary)\n",
    "Instructions for Students:\n",
    "\n",
    "- If the dataset contains numerical features, normalize the features using a normalization technique.\n",
    "- If the dataset contains categorical features, encode the categorical features using an encoding technique.\n",
    "- Split the dataset into training and validation sets."
   ]
  },
  {
   "cell_type": "code",
   "execution_count": 4,
   "metadata": {},
   "outputs": [
    {
     "name": "stdout",
     "output_type": "stream",
     "text": [
      "Training set shape: (120, 2)\n",
      "Validation set shape: (30, 2)\n"
     ]
    }
   ],
   "source": [
    "from sklearn.preprocessing import StandardScaler, MinMaxScaler, RobustScaler, OneHotEncoder\n",
    "from sklearn.model_selection import train_test_split\n",
    "\n",
    "\n",
    "# Normalize numerical features\n",
    "scaler = StandardScaler() # You can also use MinMaxScaler, RobustScaler, etc. check https://scikit-learn.org/stable/modules/preprocessing.html\n",
    "X_norm = scaler.fit_transform(X)\n",
    "\n",
    "\n",
    "# Split the dataset\n",
    "\n",
    "X_train, X_test, y_train, y_test = train_test_split(X_norm, y, test_size=0.2, random_state=42) # 80% training, 20% validation data (you can change the split ratio)\n",
    "\n",
    "print(\"Training set shape:\", X_train.shape)\n",
    "print(\"Validation set shape:\", X_test.shape)\n",
    "\n",
    "\n"
   ]
  },
  {
   "cell_type": "markdown",
   "metadata": {},
   "source": [
    "### Step 3: Hyperparameter Tuning and Model Training\n",
    "Instructions for Students:\n",
    "\n",
    "- Choose a classification model (e.g., Logistic Regression, Random Forest, Gradient Boosting, etc.) and train it on the training dataset.\n",
    "- Decide on the hyperparameters for the model and perform hyperparameter tuning using the training dataset.\n",
    "- Train the model using the training dataset and evaluate its performance on the validation dataset.\n",
    "- Save the trained model as a pickle file."
   ]
  },
  {
   "cell_type": "code",
   "execution_count": 5,
   "metadata": {},
   "outputs": [
    {
     "name": "stdout",
     "output_type": "stream",
     "text": [
      "Fitting 3 folds for each of 3 candidates, totalling 9 fits\n"
     ]
    },
    {
     "name": "stderr",
     "output_type": "stream",
     "text": [
      "/workspace/.venv/lib/python3.11/site-packages/sklearn/model_selection/_search.py:320: UserWarning: The total space of parameters 3 is smaller than n_iter=100. Running 3 iterations. For exhaustive searches, use GridSearchCV.\n",
      "  warnings.warn(\n"
     ]
    },
    {
     "name": "stdout",
     "output_type": "stream",
     "text": [
      "[CV] END ...................................n_estimators=100; total time=   0.1s\n",
      "[CV] END ...................................n_estimators=100; total time=   0.1s\n",
      "[CV] END ...................................n_estimators=100; total time=   0.1s\n",
      "[CV] END ...................................n_estimators=200; total time=   0.1s\n",
      "[CV] END ...................................n_estimators=200; total time=   0.1s\n",
      "[CV] END ...................................n_estimators=200; total time=   0.1s\n",
      "[CV] END ...................................n_estimators=300; total time=   0.1s\n",
      "[CV] END ...................................n_estimators=300; total time=   0.1s\n",
      "[CV] END ...................................n_estimators=300; total time=   0.1s\n",
      "Best parameters: {'n_estimators': 100}\n"
     ]
    }
   ],
   "source": [
    "\n",
    "# Import the classifier from the sklearn library\n",
    "from sklearn.ensemble import RandomForestClassifier, GradientBoostingClassifier, AdaBoostClassifier\n",
    "# or\n",
    "# from sklearn.linear_model import LogisticRegression\n",
    "# or\n",
    "# from sklearn.svm import SVC\n",
    "# or\n",
    "# from sklearn.tree import DecisionTreeClassifier\n",
    "\n",
    "# Import the GridSearchCV or RandomizedSearchCV for hyperparameter tuning\n",
    "from sklearn.model_selection import GridSearchCV, RandomizedSearchCV\n",
    "\n",
    "\n",
    "\n",
    "# Define the hyperparameters to tune and their possible values as a dictionary (param_grid)\n",
    "param_grid = {\n",
    "    'n_estimators': [100, 200, 300],\n",
    "    # this is to show format, you can add more hyperparameters\n",
    "\n",
    "}\n",
    "\n",
    "# Create the model\n",
    "clf = RandomForestClassifier() # Your classifier here, e.g. RandomForestClassifier(), DecisionTreeClassifier(), LogisticRegression(), etc.\n",
    "\n",
    "# Randomized search, you can also use GridSearchCV instead however RandomizedSearchCV is faster, GridSearchCV is exhaustive search over a specified parameter values\n",
    "# You may adjust n_iter, cv, and verbose parameters as needed\n",
    "# n_iter: Number of parameter settings that are sampled. n_iter trades off runtime vs quality of the solution.\n",
    "# cv: Determines the cross-validation splitting strategy. None, to use the default 3-fold cross validation.\n",
    "# verbose: Controls the verbosity: the higher, the more messages.\n",
    "clf_opt = RandomizedSearchCV(estimator=clf, param_distributions=param_grid, n_iter=100, cv=3, verbose=2, random_state=42, n_jobs=-1)\n",
    "# clf_opt = GridSearchCV(estimator=clf, param_grid=param_grid, cv=3, verbose=2, n_jobs=-1)\n",
    "\n",
    "# Fit the model\n",
    "\n",
    "clf_opt.fit(X_train, y_train)\n",
    "\n",
    "# print the best parameters\n",
    "print(\"Best parameters:\", clf_opt.best_params_)\n",
    "\n",
    "\n",
    "\n",
    "\n"
   ]
  },
  {
   "cell_type": "code",
   "execution_count": 7,
   "metadata": {},
   "outputs": [
    {
     "name": "stdout",
     "output_type": "stream",
     "text": [
      "Accuracy: 0.8\n",
      "\n",
      "Classification Report:\n",
      "               precision    recall  f1-score   support\n",
      "\n",
      "           0       1.00      1.00      1.00        10\n",
      "           1       0.67      0.67      0.67         9\n",
      "           2       0.73      0.73      0.73        11\n",
      "\n",
      "    accuracy                           0.80        30\n",
      "   macro avg       0.80      0.80      0.80        30\n",
      "weighted avg       0.80      0.80      0.80        30\n",
      "\n",
      "\n",
      "Confusion Matrix:\n",
      " [[10  0  0]\n",
      " [ 0  6  3]\n",
      " [ 0  3  8]]\n"
     ]
    },
    {
     "data": {
      "text/plain": [
       "['model.pkl']"
      ]
     },
     "execution_count": 7,
     "metadata": {},
     "output_type": "execute_result"
    }
   ],
   "source": [
    "# Make predictions\n",
    "y_pred = clf_opt.predict(X_test)\n",
    "\n",
    "# Evaluate the model\n",
    "from sklearn.metrics import accuracy_score, classification_report, confusion_matrix, f1_score\n",
    "print(\"Accuracy:\", accuracy_score(y_test, y_pred))\n",
    "print(\"\\nClassification Report:\\n\", classification_report(y_test, y_pred))\n",
    "print(\"\\nConfusion Matrix:\\n\", confusion_matrix(y_test, y_pred))\n",
    "\n",
    "\n",
    "# if you are not satisfied with the model, you can retrain the model with different hyperparameters or try a different model\n",
    "\n",
    "# If you are satisfied with the model, you can save it for later use \n",
    "import joblib\n",
    "joblib.dump(clf_opt, 'model.pkl')\n"
   ]
  },
  {
   "cell_type": "markdown",
   "metadata": {},
   "source": [
    "## Useful Links:\n",
    "- [Scikit-learn datasets](https://scikit-learn.org/1.5/api/sklearn.datasets.html)\n",
    "- [Scikit-learn preprocessing](https://scikit-learn.org/stable/modules/preprocessing.html)\n",
    "- [Scikit-learn model selection](https://scikit-learn.org/stable/model_selection.html)\n",
    "- [Scikit-learn classifiers](https://scikit-learn.org/stable/supervised_learning.html#supervised-learning)\n",
    "\n",
    "\n",
    "\n"
   ]
  }
 ],
 "metadata": {
  "kernelspec": {
   "display_name": ".venv",
   "language": "python",
   "name": "python3"
  },
  "language_info": {
   "codemirror_mode": {
    "name": "ipython",
    "version": 3
   },
   "file_extension": ".py",
   "mimetype": "text/x-python",
   "name": "python",
   "nbconvert_exporter": "python",
   "pygments_lexer": "ipython3",
   "version": "3.11.10"
  }
 },
 "nbformat": 4,
 "nbformat_minor": 2
}
