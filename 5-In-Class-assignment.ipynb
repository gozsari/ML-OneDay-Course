{
 "cells": [
  {
   "cell_type": "markdown",
   "metadata": {},
   "source": [
    "# In-class assignment: Build a classifier model\n",
    "\n",
    "## Objective:\n",
    "\n",
    "Students will:\n",
    "\n",
    "- Develop and train a classification model using a provided training/validation dataset.\n",
    "- Save their trained models as pickle files.\n",
    "- Submit their models for evaluation.\n",
    "- Compete to achieve the highest F1 score on a hidden test dataset."
   ]
  },
  {
   "cell_type": "markdown",
   "metadata": {},
   "source": [
    "### Step 1: Load the Dataset\n",
    "Instructions for Students:\n",
    "\n",
    "- A CSV file containing the features and labels will be provided.\n",
    "- Load the dataset into a Pandas DataFrame.\n",
    "- Explore the dataset to understand its structure and key characteristics."
   ]
  },
  {
   "cell_type": "code",
   "execution_count": 1,
   "metadata": {},
   "outputs": [
    {
     "data": {
      "text/plain": [
       "'\\n\\n# Load the dataset\\nfile_path = \"path_to_training_dataset.csv\"  # Replace with the actual path\\ndf = pd.read_csv(file_path)\\n\\n# Preview the dataset\\nprint(\"Dataset Overview:\")\\nprint(df.head())\\nprint(\"\\nDataset Info:\")\\nprint(df.info())\\n'"
      ]
     },
     "execution_count": 1,
     "metadata": {},
     "output_type": "execute_result"
    }
   ],
   "source": [
    "import pandas as pd\n",
    "\n",
    "\"\"\"\n",
    "\n",
    "# Load the dataset\n",
    "file_path = \"path_to_training_dataset.csv\"  # Replace with the actual path\n",
    "df = pd.read_csv(file_path)\n",
    "\n",
    "# Preview the dataset\n",
    "print(\"Dataset Overview:\")\n",
    "print(df.head())\n",
    "print(\"\\nDataset Info:\")\n",
    "print(df.info())\n",
    "\"\"\""
   ]
  },
  {
   "cell_type": "code",
   "execution_count": null,
   "metadata": {},
   "outputs": [],
   "source": [
    "# Prepare features and labels\n",
    "\"\"\"\n",
    "X = df.drop(columns=['Label'])  # Replace 'Label' with the actual label column name\n",
    "y = df['Label']\n",
    "\"\"\""
   ]
  },
  {
   "cell_type": "markdown",
   "metadata": {},
   "source": [
    "### Step 2: Normalize the Features (if necessary)\n",
    "Instructions for Students:\n",
    "\n",
    "- If the dataset contains numerical features, normalize the features using a standard normalization technique.\n",
    "- If the dataset contains categorical features, consider encoding them using one-hot encoding or other suitable techniques.\n",
    "- Split the dataset into training and validation sets."
   ]
  },
  {
   "cell_type": "code",
   "execution_count": null,
   "metadata": {},
   "outputs": [],
   "source": [
    "from sklearn.preprocessing import StandardScaler, MinMaxScaler, RobustScaler, OneHotEncoder\n",
    "from sklearn.model_selection import train_test_split\n",
    "\n",
    "\"\"\"\n",
    "numeric_features = X.select_dtypes(include=['int64', 'float64']).columns\n",
    "\n",
    "# Normalize numerical features\n",
    "scaler = StandardScaler() # You can also use MinMaxScaler, RobustScaler, etc. check https://scikit-learn.org/stable/modules/preprocessing.html\n",
    "X[numeric_features] = scaler.fit_transform(X[numeric_features])\n",
    "\n",
    "categories = X.select_dtypes(include=['object']).columns\n",
    "\n",
    "# One-hot encode categorical features\n",
    "X = pd.get_dummies(X, columns=categories)\n",
    "\n",
    "# Split the dataset\n",
    "\n",
    "X_train, X_test, y_train, y_test = train_test_split(X, y, test_size=0.2, random_state=42) # 80% training, 20% validation data (you can change the split ratio)\n",
    "\n",
    "print(\"Training set shape:\", X_train.shape)\n",
    "print(\"Validation set shape:\", X_test.shape)\n",
    "\n",
    "\n",
    "\"\"\""
   ]
  },
  {
   "cell_type": "markdown",
   "metadata": {},
   "source": [
    "### Step 3: Hyperparameter Tuning and Model Training\n",
    "Instructions for Students:\n",
    "\n",
    "- Choose a classification model (e.g., Logistic Regression, Random Forest, Gradient Boosting, etc.) and train it on the training dataset.\n",
    "- Decide on the hyperparameters for the model and perform hyperparameter tuning using the training dataset.\n",
    "- Train the model using the training dataset and evaluate its performance on the validation dataset.\n",
    "- Save the trained model as a pickle file."
   ]
  },
  {
   "cell_type": "code",
   "execution_count": null,
   "metadata": {},
   "outputs": [],
   "source": [
    "\n",
    "# Import the classifier from the sklearn library\n",
    "# from sklearn.ensemble import RandomForestClassifier, GradientBoostingClassifier, AdaBoostClassifier\n",
    "# or\n",
    "# from sklearn.linear_model import LogisticRegression\n",
    "# or\n",
    "# from sklearn.svm import SVC\n",
    "# or\n",
    "# from sklearn.tree import DecisionTreeClassifier\n",
    "\n",
    "\n",
    "# from sklearn.model_selection import GridSearchCV, RandomizedSearchCV\n",
    "# Import the GridSearchCV or RandomizedSearchCV for hyperparameter tuning\n",
    "\n",
    "\n",
    "# Define the hyperparameters to tune and their possible values as a dictionary (param_grid)\n",
    "param_grid = {\n",
    "    'n_estimators': [100, 200, 300],\n",
    "    # this is to show format, you can add more hyperparameters\n",
    "\n",
    "}\n",
    "\n",
    "# Create the model\n",
    "clf = # Your classifier here, e.g. RandomForestClassifier(), DecisionTreeClassifier(), LogisticRegression(), etc.\n",
    "\n",
    "# Randomized search, you can also use GridSearchCV instead however RandomizedSearchCV is faster, GridSearchCV is exhaustive search over a specified parameter values\n",
    "# You may adjust n_iter, cv, and verbose parameters as needed\n",
    "# n_iter: Number of parameter settings that are sampled. n_iter trades off runtime vs quality of the solution.\n",
    "# cv: Determines the cross-validation splitting strategy. None, to use the default 3-fold cross validation.\n",
    "# verbose: Controls the verbosity: the higher, the more messages.\n",
    "#clf_opt = RandomizedSearchCV(estimator=clf, param_distributions=param_grid, n_iter=100, cv=3, verbose=2, random_state=42, n_jobs=-1)\n",
    "# clf_opt = GridSearchCV(estimator=clf, param_grid=param_grid, cv=3, verbose=2, n_jobs=-1)\n",
    "\n",
    "# Fit the model\n",
    "\n",
    "# clf_opt.fit(X_train, y_train)\n",
    "\n",
    "# print the best parameters\n",
    "# print(\"Best parameters:\", rf_random.best_params_)\n",
    "\n",
    "\n",
    "\n",
    "\n"
   ]
  },
  {
   "cell_type": "code",
   "execution_count": null,
   "metadata": {},
   "outputs": [],
   "source": [
    "# Make predictions\n",
    "# y_pred = clf_opt.predict(X_test)\n",
    "\n",
    "# Evaluate the model\n",
    "#from sklearn.metrics import accuracy_score, classification_report, confusion_matrix, f1_score\n",
    "# print(\"Accuracy:\", accuracy_score(y_test, y_pred))\n",
    "# print(\"\\nClassification Report:\\n\", classification_report(y_test, y_pred))\n",
    "# print(\"\\nConfusion Matrix:\\n\", confusion_matrix(y_test, y_pred))\n",
    "# print(\"\\nF1 Score:\", f1_score(y_test, y_pred))\n",
    "\n",
    "# if you are not satisfied with the model, you can retrain the model with different hyperparameters or try a different model\n",
    "\n",
    "# If you are satisfied with the model, you can save it for later use\n",
    "# import joblib\n",
    "# joblib.dump(clf_opt, 'model.pkl')\n"
   ]
  }
 ],
 "metadata": {
  "kernelspec": {
   "display_name": ".venv",
   "language": "python",
   "name": "python3"
  },
  "language_info": {
   "codemirror_mode": {
    "name": "ipython",
    "version": 3
   },
   "file_extension": ".py",
   "mimetype": "text/x-python",
   "name": "python",
   "nbconvert_exporter": "python",
   "pygments_lexer": "ipython3",
   "version": "3.11.5"
  }
 },
 "nbformat": 4,
 "nbformat_minor": 2
}
